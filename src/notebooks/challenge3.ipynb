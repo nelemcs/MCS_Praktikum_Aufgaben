{
 "cells": [
  {
   "cell_type": "markdown",
   "metadata": {},
   "source": [
    "# Challenge 3: Geo-Daten\n",
    "\n",
    "In dieser Challenge versuchen wir die Standort Daten der Tankstellen zu interpretieren.\n",
    "Dazu können wir die Bibliothek [GeoPandas](https://geopandas.org/en/stable/) nutzen.\n",
    "\n",
    "## Importieren der Bibliotheken \n",
    "Wir importieren zusätzlich noch die Bibliotheken Matplotlib zur Visualisierung, Shapely und Math für geometrische Berechnungen."
   ]
  },
  {
   "cell_type": "code",
   "execution_count": 2,
   "metadata": {},
   "outputs": [],
   "source": [
    "# Pangas zur Daten-Anaylse\n",
    "import pandas as pd\n",
    "# GeoPandas für geometrische Funktionen\n",
    "import geopandas\n",
    "# Zur Visualisierung\n",
    "import matplotlib.pyplot as plt\n",
    "# Für geometrische Berechnungen\n",
    "from shapely.geometry import Point\n",
    "import math \n"
   ]
  },
  {
   "cell_type": "markdown",
   "metadata": {},
   "source": [
    "### Aufgabe\n",
    "Importiere wieder wie bekannt die Stationsdaten!"
   ]
  },
  {
   "cell_type": "code",
   "execution_count": 39,
   "metadata": {},
   "outputs": [],
   "source": [
    "stationsdaten = pd.read_csv (r'../../daten/2022-06-11-stations.csv')"
   ]
  },
  {
   "cell_type": "markdown",
   "metadata": {},
   "source": [
    "## Geo Punkte\n",
    "Mit GeoPandas kann man GeoDatenFrame erzeugen. \n",
    "\n",
    "**Beispiel**\n",
    "\n",
    "geopandas.GeoDataFrame(datenframe, geometry=geopandas.points_from_xy(datenframe.longitude, datenframe.latitude, crs='epsg:4326'))\n",
    "\n",
    "### Aufgabe\n",
    "\n",
    "Erzeuge den GeoDatenFrame \"geodaten\" vom DatenFrame \"stationsdaten\" und gebe die Kopfdaten aus!"
   ]
  },
  {
   "cell_type": "code",
   "execution_count": 46,
   "metadata": {},
   "outputs": [
    {
     "data": {
      "text/html": [
       "<div>\n",
       "<style scoped>\n",
       "    .dataframe tbody tr th:only-of-type {\n",
       "        vertical-align: middle;\n",
       "    }\n",
       "\n",
       "    .dataframe tbody tr th {\n",
       "        vertical-align: top;\n",
       "    }\n",
       "\n",
       "    .dataframe thead th {\n",
       "        text-align: right;\n",
       "    }\n",
       "</style>\n",
       "<table border=\"1\" class=\"dataframe\">\n",
       "  <thead>\n",
       "    <tr style=\"text-align: right;\">\n",
       "      <th></th>\n",
       "      <th>uuid</th>\n",
       "      <th>name</th>\n",
       "      <th>brand</th>\n",
       "      <th>street</th>\n",
       "      <th>house_number</th>\n",
       "      <th>post_code</th>\n",
       "      <th>city</th>\n",
       "      <th>latitude</th>\n",
       "      <th>longitude</th>\n",
       "      <th>first_active</th>\n",
       "      <th>openingtimes_json</th>\n",
       "      <th>geometry</th>\n",
       "    </tr>\n",
       "  </thead>\n",
       "  <tbody>\n",
       "    <tr>\n",
       "      <th>0</th>\n",
       "      <td>0e18d0d3-ed38-4e7f-a18e-507a78ad901d</td>\n",
       "      <td>OIL! Tankstelle München</td>\n",
       "      <td>OIL!</td>\n",
       "      <td>Eversbuschstraße 33</td>\n",
       "      <td>NaN</td>\n",
       "      <td>80999</td>\n",
       "      <td>München</td>\n",
       "      <td>48.180700</td>\n",
       "      <td>11.460900</td>\n",
       "      <td>1970-01-01 01:00:00+01</td>\n",
       "      <td>{\"openingTimes\":[{\"applicable_days\":192,\"perio...</td>\n",
       "      <td>POINT (11.46090 48.18070)</td>\n",
       "    </tr>\n",
       "    <tr>\n",
       "      <th>1</th>\n",
       "      <td>44e2bdb7-13e3-4156-8576-8326cdd20459</td>\n",
       "      <td>bft Tankstelle</td>\n",
       "      <td>NaN</td>\n",
       "      <td>Schellengasse</td>\n",
       "      <td>53</td>\n",
       "      <td>36304</td>\n",
       "      <td>Alsfeld</td>\n",
       "      <td>50.752009</td>\n",
       "      <td>9.279039</td>\n",
       "      <td>1970-01-01 01:00:00+01</td>\n",
       "      <td>{\"openingTimes\":[{\"applicable_days\":63,\"period...</td>\n",
       "      <td>POINT (9.27904 50.75201)</td>\n",
       "    </tr>\n",
       "    <tr>\n",
       "      <th>2</th>\n",
       "      <td>ad812258-94e7-473d-aa80-d392f7532218</td>\n",
       "      <td>bft Bonn-Bad Godesberg</td>\n",
       "      <td>bft</td>\n",
       "      <td>Godesberger Allee</td>\n",
       "      <td>55</td>\n",
       "      <td>53175</td>\n",
       "      <td>Bonn</td>\n",
       "      <td>50.695100</td>\n",
       "      <td>7.142760</td>\n",
       "      <td>1970-01-01 01:00:00+01</td>\n",
       "      <td>{\"openingTimes\":[{\"applicable_days\":30,\"period...</td>\n",
       "      <td>POINT (7.14276 50.69510)</td>\n",
       "    </tr>\n",
       "    <tr>\n",
       "      <th>3</th>\n",
       "      <td>e18286e5-ef00-4b4f-a81d-371b665f265d</td>\n",
       "      <td>AVIA Tankstelle</td>\n",
       "      <td>AVIA</td>\n",
       "      <td>Hohenloher Straße</td>\n",
       "      <td>4</td>\n",
       "      <td>74547</td>\n",
       "      <td>Untermünkheim</td>\n",
       "      <td>49.151580</td>\n",
       "      <td>9.734440</td>\n",
       "      <td>2014-03-18 16:45:31+01</td>\n",
       "      <td>{}</td>\n",
       "      <td>POINT (9.73444 49.15158)</td>\n",
       "    </tr>\n",
       "    <tr>\n",
       "      <th>4</th>\n",
       "      <td>e17ed0cd-65fc-48fa-9f25-45d6a1b928f2</td>\n",
       "      <td>Tankstelle Kirchlengern</td>\n",
       "      <td>Hempelmann</td>\n",
       "      <td>Hüllerstraße</td>\n",
       "      <td>20</td>\n",
       "      <td>32278</td>\n",
       "      <td>Kirchlengern</td>\n",
       "      <td>52.217400</td>\n",
       "      <td>8.638160</td>\n",
       "      <td>2014-03-18 16:45:31+01</td>\n",
       "      <td>{\"openingTimes\":[{\"applicable_days\":63,\"period...</td>\n",
       "      <td>POINT (8.63816 52.21740)</td>\n",
       "    </tr>\n",
       "  </tbody>\n",
       "</table>\n",
       "</div>"
      ],
      "text/plain": [
       "                                   uuid                     name       brand  \\\n",
       "0  0e18d0d3-ed38-4e7f-a18e-507a78ad901d  OIL! Tankstelle München        OIL!   \n",
       "1  44e2bdb7-13e3-4156-8576-8326cdd20459           bft Tankstelle         NaN   \n",
       "2  ad812258-94e7-473d-aa80-d392f7532218   bft Bonn-Bad Godesberg         bft   \n",
       "3  e18286e5-ef00-4b4f-a81d-371b665f265d          AVIA Tankstelle        AVIA   \n",
       "4  e17ed0cd-65fc-48fa-9f25-45d6a1b928f2  Tankstelle Kirchlengern  Hempelmann   \n",
       "\n",
       "                street house_number post_code           city   latitude  \\\n",
       "0  Eversbuschstraße 33          NaN     80999        München  48.180700   \n",
       "1       Schellengasse            53     36304        Alsfeld  50.752009   \n",
       "2    Godesberger Allee           55     53175           Bonn  50.695100   \n",
       "3    Hohenloher Straße            4     74547  Untermünkheim  49.151580   \n",
       "4         Hüllerstraße           20     32278   Kirchlengern  52.217400   \n",
       "\n",
       "   longitude            first_active  \\\n",
       "0  11.460900  1970-01-01 01:00:00+01   \n",
       "1   9.279039  1970-01-01 01:00:00+01   \n",
       "2   7.142760  1970-01-01 01:00:00+01   \n",
       "3   9.734440  2014-03-18 16:45:31+01   \n",
       "4   8.638160  2014-03-18 16:45:31+01   \n",
       "\n",
       "                                   openingtimes_json  \\\n",
       "0  {\"openingTimes\":[{\"applicable_days\":192,\"perio...   \n",
       "1  {\"openingTimes\":[{\"applicable_days\":63,\"period...   \n",
       "2  {\"openingTimes\":[{\"applicable_days\":30,\"period...   \n",
       "3                                                 {}   \n",
       "4  {\"openingTimes\":[{\"applicable_days\":63,\"period...   \n",
       "\n",
       "                    geometry  \n",
       "0  POINT (11.46090 48.18070)  \n",
       "1   POINT (9.27904 50.75201)  \n",
       "2   POINT (7.14276 50.69510)  \n",
       "3   POINT (9.73444 49.15158)  \n",
       "4   POINT (8.63816 52.21740)  "
      ]
     },
     "execution_count": 46,
     "metadata": {},
     "output_type": "execute_result"
    }
   ],
   "source": [
    "geodaten = geopandas.GeoDataFrame(stationsdaten, geometry=geopandas.points_from_xy(stationsdaten.longitude, stationsdaten.latitude, crs='epsg:4326'))\n",
    "geodaten.head()"
   ]
  },
  {
   "cell_type": "markdown",
   "metadata": {},
   "source": [
    "## Visualisieren\n",
    "Mit Matplotlib kann man schnelle sehr simple Visualisirerungen vornehmen um Daten zu prüfen.\n",
    "Hier ist ein Beispiel, das alle Tankstellen in Berlin anzeigt.\n",
    "\n",
    "### Aufgabe \n",
    "\n",
    "Ändere das Beispiel so ab, dass Tankstellen aus Hamburg und München auf der Karte in Pink angezeigt werden!"
   ]
  },
  {
   "cell_type": "code",
   "execution_count": 72,
   "metadata": {},
   "outputs": [
    {
     "data": {
      "image/png": "[encoded data removed]",
      "text/plain": [
       "<Figure size 432x288 with 1 Axes>"
      ]
     },
     "metadata": {
      "needs_background": "light"
     },
     "output_type": "display_data"
    }
   ],
   "source": [
    "world = geopandas.read_file(geopandas.datasets.get_path('naturalearth_lowres'))\n",
    "ax = world[world.iso_a3 == 'DEU'].plot(color='white', edgecolor='black')\n",
    "\n",
    "geodaten[geodaten.city == 'Berlin'].plot(ax=ax, color='red')\n",
    "\n",
    "plt.show()"
   ]
  },
  {
   "cell_type": "markdown",
   "metadata": {},
   "source": [
    "## Entfernungen berechnen\n",
    "\n",
    "Die Berechnung von Entfernungen ist relativ komplex. Die Erde ist nicht flach, sondern gekrümmt. \n",
    "Deshalb gibt es verschiedene Algorythmen um die Krümmung mit einzubeziehen.\n",
    "Es gibt zudem unzählige Koordinatensysteme.\n",
    "\n",
    "GPS Systeme nutzen z.B. das System EPSG 4326. In diesem Koordinatensystem werden Punkte mittels Longitue und Latiude angegeben.\n",
    "Beim Erzeugen unser Geodaten, haben wir genau dieses angegeben.\n",
    "\n",
    "Wenn wir in diesem System versuchen Entfernungen zu brechnen werden wir Ergebnisse in Grad erhalten. Wir möchten aber in Metern rechnen, da dies für uns Menschen intuitiver ist.\n",
    "Damit wir das errechnen können, müssen wir das Koordinatensystem transformieren und in ein passendes System umwandeln.\n",
    "\n",
    "Wir können z.B. das System [EPSG 31469](https://epsg.io/31469) nutzen. Dieses System funktioniert perfekt für die meisten Bereiche in Deutschland. Für die Grenze zu Polen, wäre es etwa nicht präzisie.\n",
    "\n",
    "\n",
    "Wir wandelt im Beispiel den Standort der MCS um.\n",
    "**Beispiel**\n",
    "\n",
    "mcs = geopandas.GeoDataFrame(geometry=[Point(9.997462, 53.6761905)], crs='epsg:4326')\n",
    "mcs = mcs.to_crs('EPSG:31469')\n",
    "\n",
    "### Aufgabe\n",
    "Ergänze den Code so, dass die geodaten umgewandelt und in der Variabel \"umgewandelt\" gespeichert werden!"
   ]
  },
  {
   "cell_type": "code",
   "execution_count": 75,
   "metadata": {},
   "outputs": [],
   "source": [
    "mcs = geopandas.GeoDataFrame(geometry=[Point(9.997462, 53.6761905)], crs='epsg:4326')\n",
    "mcs = mcs.to_crs('EPSG:31469')\n",
    "umgewandelt = geodaten.to_crs('EPSG:31469')"
   ]
  },
  {
   "cell_type": "markdown",
   "metadata": {},
   "source": [
    "Mit der Funktion Distance können wir jetzt Entfernungen berechnen.\n",
    "\n",
    "Hier berechnen wir die Entfernung zu MCS. Die Funktion Floor sorgt dafür, dass wir nur Meter erhalten. \n",
    "Geopandas kann sogar Millimeter genau rechnen.\n",
    "\n",
    "**Beispiel**\n",
    "dataframe.geometry.apply(lambda g: math.floor(mcs.distance(g)))\n",
    "\n",
    "### Aufgabe\n",
    "Berechne für den GeoDatenFrame \"umgewandelt\" die Entfernungen zur MCS!\n",
    "Speichere dies in der Spalte \"entfernung\" des GeoDatenFrame!\n",
    "\n"
   ]
  },
  {
   "cell_type": "code",
   "execution_count": 76,
   "metadata": {},
   "outputs": [],
   "source": [
    "umgewandelt['entfernung'] = umgewandelt.geometry.apply(lambda g: math.floor(mcs.distance(g)))\n"
   ]
  },
  {
   "cell_type": "markdown",
   "metadata": {},
   "source": [
    "### Aufgabe\n",
    "Sortiere diesen DatenFrame und gebe die ersten 3 Standorte aus!"
   ]
  },
  {
   "cell_type": "code",
   "execution_count": 78,
   "metadata": {},
   "outputs": [
    {
     "data": {
      "text/html": [
       "<div>\n",
       "<style scoped>\n",
       "    .dataframe tbody tr th:only-of-type {\n",
       "        vertical-align: middle;\n",
       "    }\n",
       "\n",
       "    .dataframe tbody tr th {\n",
       "        vertical-align: top;\n",
       "    }\n",
       "\n",
       "    .dataframe thead th {\n",
       "        text-align: right;\n",
       "    }\n",
       "</style>\n",
       "<table border=\"1\" class=\"dataframe\">\n",
       "  <thead>\n",
       "    <tr style=\"text-align: right;\">\n",
       "      <th></th>\n",
       "      <th>uuid</th>\n",
       "      <th>name</th>\n",
       "      <th>brand</th>\n",
       "      <th>street</th>\n",
       "      <th>house_number</th>\n",
       "      <th>post_code</th>\n",
       "      <th>city</th>\n",
       "      <th>latitude</th>\n",
       "      <th>longitude</th>\n",
       "      <th>first_active</th>\n",
       "      <th>openingtimes_json</th>\n",
       "      <th>geometry</th>\n",
       "      <th>entfernung</th>\n",
       "    </tr>\n",
       "  </thead>\n",
       "  <tbody>\n",
       "    <tr>\n",
       "      <th>5105</th>\n",
       "      <td>bdc672c7-5a83-4ab3-ad61-992e8c84ecfd</td>\n",
       "      <td>Shell Norderstedt Ohechaussee 117</td>\n",
       "      <td>Shell</td>\n",
       "      <td>Ohechaussee</td>\n",
       "      <td>117</td>\n",
       "      <td>22848</td>\n",
       "      <td>Norderstedt</td>\n",
       "      <td>53.674394</td>\n",
       "      <td>9.987061</td>\n",
       "      <td>2014-03-18 16:45:31+01</td>\n",
       "      <td>{\"openingTimes\":[{\"applicable_days\":31,\"period...</td>\n",
       "      <td>POINT (5168972.205 5960912.119)</td>\n",
       "      <td>716</td>\n",
       "    </tr>\n",
       "    <tr>\n",
       "      <th>1887</th>\n",
       "      <td>ea7587b9-0c95-4836-a230-e10f96b047eb</td>\n",
       "      <td>Esso Tankstelle</td>\n",
       "      <td>ESSO</td>\n",
       "      <td>OCHSENZOLLER STR. 131</td>\n",
       "      <td></td>\n",
       "      <td>22848</td>\n",
       "      <td>NORDERSTEDT</td>\n",
       "      <td>53.681803</td>\n",
       "      <td>9.985981</td>\n",
       "      <td>2014-03-18 16:45:31+01</td>\n",
       "      <td>{\"openingTimes\":[{\"applicable_days\":31,\"period...</td>\n",
       "      <td>POINT (5168959.126 5961740.820)</td>\n",
       "      <td>984</td>\n",
       "    </tr>\n",
       "    <tr>\n",
       "      <th>12745</th>\n",
       "      <td>667c3279-eac0-4c89-a0c4-0a705312a070</td>\n",
       "      <td>Aral Tankstelle</td>\n",
       "      <td>ARAL</td>\n",
       "      <td>Ohechaussee</td>\n",
       "      <td>146</td>\n",
       "      <td>22848</td>\n",
       "      <td>Norderstedt</td>\n",
       "      <td>53.671993</td>\n",
       "      <td>9.983360</td>\n",
       "      <td>2014-03-18 16:45:31+01</td>\n",
       "      <td>{}</td>\n",
       "      <td>POINT (5168709.029 5960662.498)</td>\n",
       "      <td>1043</td>\n",
       "    </tr>\n",
       "  </tbody>\n",
       "</table>\n",
       "</div>"
      ],
      "text/plain": [
       "                                       uuid  \\\n",
       "5105   bdc672c7-5a83-4ab3-ad61-992e8c84ecfd   \n",
       "1887   ea7587b9-0c95-4836-a230-e10f96b047eb   \n",
       "12745  667c3279-eac0-4c89-a0c4-0a705312a070   \n",
       "\n",
       "                                    name  brand                 street  \\\n",
       "5105   Shell Norderstedt Ohechaussee 117  Shell            Ohechaussee   \n",
       "1887                     Esso Tankstelle   ESSO  OCHSENZOLLER STR. 131   \n",
       "12745                    Aral Tankstelle   ARAL            Ohechaussee   \n",
       "\n",
       "      house_number post_code         city   latitude  longitude  \\\n",
       "5105           117     22848  Norderstedt  53.674394   9.987061   \n",
       "1887                   22848  NORDERSTEDT  53.681803   9.985981   \n",
       "12745          146     22848  Norderstedt  53.671993   9.983360   \n",
       "\n",
       "                 first_active  \\\n",
       "5105   2014-03-18 16:45:31+01   \n",
       "1887   2014-03-18 16:45:31+01   \n",
       "12745  2014-03-18 16:45:31+01   \n",
       "\n",
       "                                       openingtimes_json  \\\n",
       "5105   {\"openingTimes\":[{\"applicable_days\":31,\"period...   \n",
       "1887   {\"openingTimes\":[{\"applicable_days\":31,\"period...   \n",
       "12745                                                 {}   \n",
       "\n",
       "                              geometry  entfernung  \n",
       "5105   POINT (5168972.205 5960912.119)         716  \n",
       "1887   POINT (5168959.126 5961740.820)         984  \n",
       "12745  POINT (5168709.029 5960662.498)        1043  "
      ]
     },
     "execution_count": 78,
     "metadata": {},
     "output_type": "execute_result"
    }
   ],
   "source": [
    "entfernung_zu_mcs = umgewandelt.sort_values(by=['entfernung'])\n",
    "entfernung_zu_mcs.head(3)"
   ]
  }
 ],
 "metadata": {
  "kernelspec": {
   "display_name": "Python 3.10.4 ('praktikum')",
   "language": "python",
   "name": "python3"
  },
  "language_info": {
   "codemirror_mode": {
    "name": "ipython",
    "version": 3
   },
   "file_extension": ".py",
   "mimetype": "text/x-python",
   "name": "python",
   "nbconvert_exporter": "python",
   "pygments_lexer": "ipython3",
   "version": "3.10.4"
  },
  "orig_nbformat": 4,
  "vscode": {
   "interpreter": {
    "hash": "f39e8c86af91542baf5783f09183f47c785e324451415842e0668211346c31db"
   }
  }
 },
 "nbformat": 4,
 "nbformat_minor": 2
}
