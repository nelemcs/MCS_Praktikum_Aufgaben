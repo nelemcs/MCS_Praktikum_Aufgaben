{
 "cells": [
  {
   "cell_type": "markdown",
   "metadata": {},
   "source": [
    "# Challenge 2: Daten verknüpfen\n",
    "\n",
    "\n",
    "### Aufgabe\n",
    "Importiere die Bibliothek Pandas!"
   ]
  },
  {
   "cell_type": "code",
   "execution_count": null,
   "metadata": {},
   "outputs": [],
   "source": [
    "import pandas as pd"
   ]
  },
  {
   "cell_type": "markdown",
   "metadata": {},
   "source": [
    "### Aufgabe\n",
    "Laden die entsprechenden CSV-Dateien in die DataFrames \"stationsdaten\" und \"preisinformationen\""
   ]
  },
  {
   "cell_type": "code",
   "execution_count": null,
   "metadata": {},
   "outputs": [],
   "source": [
    "# TODO implementieren"
   ]
  },
  {
   "cell_type": "markdown",
   "metadata": {},
   "source": [
    "## Verknüpfen von DataFrames\n",
    "\n",
    "Über die Funktion [merge](https://pandas.pydata.org/docs/reference/api/pandas.merge.html) können zwei DataFrames mit einerander Verknüpft werden. Man spricht dabei vom linken und vom rechten DatenFrame.\n",
    "Dabei muss eine Spalte des Linken mit einer Spalte des Rechten verbunden werden. Wenn die Daten gleich sind werden diese Daten in einer Zeile des neu erzeugten DatenFrames verbunden.\n",
    "\n",
    "Es gibt verschiedene Strategien, wie man Dinge verknüpft. Wir nutzen hier erst einmal nur das Verfahren \"left\".\n",
    "\n",
    "**Beispiel** \n",
    "pd.merge(df1, df2, how=\"left\", left_on = 'spalte_in_df1', right_on = 'spalte_in_df2')\n",
    "\n",
    "### Aufgabe \n",
    "\n",
    "Verknüpfe die Stationsdaten über die Spalte \"uuid\" mit den Preisinformationen und der Spalte \"station_uuid\"!\n",
    "Speichere diesen neuen DatenFrame mit dem Namen \"bewegungsdaten\" und zeige die Kopfdaten an!\n",
    "\n"
   ]
  },
  {
   "cell_type": "code",
   "execution_count": null,
   "metadata": {},
   "outputs": [],
   "source": [
    "# TODO implementieren"
   ]
  },
  {
   "cell_type": "markdown",
   "metadata": {},
   "source": [
    "## Gruppieren\n",
    "Mittel der Funktion [groupby](https://pandas.pydata.org/docs/reference/api/pandas.DataFrame.groupby.html) können Werte geordnet werden. Hierbei wird ein neuer Index erzeugt, der das Gruppierungskriterium enthält.\n",
    "\n",
    "**Beispiel**\n",
    "\n",
    "bewegungsdaten.groupby(['post_code'])\n",
    "\n",
    "Dies erzeugt einen neuen DataFrame in dem die Bewegungsdaten anhand der Postleitzahl geordnet sind.\n",
    "\n",
    "### Aufgabe\n",
    "\n",
    "Erzeuge einen DataFrame mit den Spalten 'city', 'brand', sowie den drei Kraftstoffen.\n",
    "Gruppiere den neuen DataFrame anhand 'city' und 'brand' und bilde den Mittelwert.\n",
    "Speichere das Endergebnis dieser Kette von Operationen unter dem Namen \"mittelwerte\" und gebe die Kopfdaten aus."
   ]
  },
  {
   "cell_type": "code",
   "execution_count": null,
   "metadata": {},
   "outputs": [],
   "source": [
    "# TODO implementieren"
   ]
  },
  {
   "cell_type": "markdown",
   "metadata": {},
   "source": [
    "## Filtern auf Indizes\n",
    "Auf Indizes wird anders gefiltert, als auf Spalten.\n",
    "Hierfür wird die Funktion [filter](https://pandas.pydata.org/docs/reference/api/pandas.DataFrame.filter.html) genutzt\n",
    "\n",
    "**Beispiel**\n",
    "\n",
    "df.filter(items = [index_wert1, index_wert2], axis=0)\n",
    "\n",
    "### Aufgabe \n",
    "\n",
    "Filte den DataFrame \"mittelwerte\" und gebe Werte für OIL! Tankstellen in Hamburg und München aus.\n",
    "\n",
    "Hinweis: Wir haben vorher anhand von zwei Spalten Gruppiert, somit haben wir hier einen als Tupel zusammengesetzen Index. Wir müssen also mit \"(city, brand)\" filtern.\n",
    "\n",
    "Frage: Wo war es an dem Tag günstiger zu Tanken bei OIL! Tankstellen? Gilt dies auch für ARAL?"
   ]
  },
  {
   "cell_type": "code",
   "execution_count": null,
   "metadata": {},
   "outputs": [],
   "source": [
    "# TODO implementieren"
   ]
  },
  {
   "cell_type": "markdown",
   "metadata": {},
   "source": [
    "## Sortieren\n",
    "Man kann ein DatenFrame mit der Funktion [sort_values](https://pandas.pydata.org/docs/reference/api/pandas.DataFrame.sort_values.html) sortieren. \n",
    "\n",
    "** Beispiel **\n",
    "\n",
    "df.sort_values(by=['spalte1' , 'spalte2])\n",
    "\n",
    "### Aufgabe\n",
    "\n",
    "Gebe für die Stadt Hamburg die drei günstigens und die drei teuersten Tankstellen aus!\n",
    "\n",
    "TIPP: \n",
    "\n",
    "Schränke die Bewegungsdasten auf die Uuid und die drei Kraftstoffe ein. Gruppiere dann anhand der Uuid und bilde die Mittelwerte.\n",
    "Merge dann diesen DataFrame mit den Stationsdaten anhand der Uuid. Filte das Ergebnis anhand der Stadt und sortiere die drei Kraftstoffe aufsteigend, bzw abstreigend.\n",
    "Gib mit Head jeweils die drei Kopfdaten aus."
   ]
  },
  {
   "cell_type": "code",
   "execution_count": null,
   "metadata": {},
   "outputs": [],
   "source": [
    "# TODO implementieren"
   ]
  },
  {
   "cell_type": "code",
   "execution_count": null,
   "metadata": {},
   "outputs": [],
   "source": [
    "# TODO implementieren"
   ]
  }
 ],
 "metadata": {
  "kernelspec": {
   "display_name": "Python 3.10.5 ('praktikum')",
   "language": "python",
   "name": "python3"
  },
  "language_info": {
   "codemirror_mode": {
    "name": "ipython",
    "version": 3
   },
   "file_extension": ".py",
   "mimetype": "text/x-python",
   "name": "python",
   "nbconvert_exporter": "python",
   "pygments_lexer": "ipython3",
   "version": "3.10.5"
  },
  "orig_nbformat": 4,
  "vscode": {
   "interpreter": {
    "hash": "580727df8011581372847826da124d6504ac765f4249bf0e15ef86c94feeffba"
   }
  }
 },
 "nbformat": 4,
 "nbformat_minor": 2
}
