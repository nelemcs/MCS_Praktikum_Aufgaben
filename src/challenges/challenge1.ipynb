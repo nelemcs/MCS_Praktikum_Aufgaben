{
 "cells": [
  {
   "cell_type": "markdown",
   "metadata": {},
   "source": [
    "# Challenge 1: Die Daten sichten\n",
    "\n",
    "Alle Tankstellen in Deutschland müssen innerhalb von 15 Minuten ihre akteullen Preise bei einer Änderung an die Martktranzparenztstelle (Kartellbehörde) übermittelt. Dies ist gesetzlich vorgeschrieben, damit der Wettbewerb überwacht und die Fairniss sichergestellt ist.\n",
    "\n",
    "Ein so genannter Verbraucher Informations Dienst (VID) kann diese Daten abfragen und diese Verbrauchen zur Verfügungstellen (z.B. Clever Tanken, 1-2-3 Tanken, usw.). Mittels eines VID haben Verbraucher die Möglichket informierte Entscheidungen beim Tanken vorzunehmen und denn für sie passenden Preis herauszusuchen.\n",
    "\n",
    "Im Folgenden arbeiten wir mit Daten des VID [Tankerkönig](https://tankerkoenig.de/) der seine Daten tageweise als CSV Datei zur Verfügung stellt.\n",
    "Für jeden Tag gibt es zwei Dateien. Eine mit Stammdaten der Stationen und eine mit den Preisbewegungen aller Tankstellen in Deutschland.\n",
    "\n",
    "## Importieren der notwendigen Bibliotheken\n",
    "\n",
    "Die Biliothek [Pandas](https://de.wikipedia.org/wiki/Pandas_(Software)) wird import und über das Kürzel \"pd\" zur Verfügung gestellt.\n",
    "Pandas ist eine Biblothek zur Daten-Analyse und wird standardmäßig im Python-Umfeld für Datamining und Statistik verwendet."
   ]
  },
  {
   "cell_type": "code",
   "execution_count": null,
   "metadata": {},
   "outputs": [],
   "source": [
    "import pandas as pd"
   ]
  },
  {
   "cell_type": "markdown",
   "metadata": {},
   "source": [
    "## Stadations-Stammdaten laden und Kopfdaten anzeigen\n",
    "\n",
    "Über die Funktion \"read_csv\" können [CSV-Dateien](https://de.wikipedia.org/wiki/CSV_(Dateiformat)) eingelesen und als [Pandas-Dataframe](https://pandas.pydata.org/docs/reference/api/pandas.DataFrame.html) bereitgestellt werden.\n",
    "\n",
    "Mit der Funktion [Head](https://pandas.pydata.org/docs/reference/api/pandas.DataFrame.head.html) kann man sich einen schnelle Übersicht über die Daten verschaffen, da Spaltennamen sowie die ersten fünf Daten ausgegeben werden.\n",
    "\n",
    "### Aufgabe\n",
    "\n",
    "Ändere den Programmcode in der folgenden Zelle um 10 Zeilen auszugeben!"
   ]
  },
  {
   "cell_type": "code",
   "execution_count": null,
   "metadata": {},
   "outputs": [],
   "source": [
    "stationsdaten = pd.read_csv (r'../../daten/2022-06-11-stations.csv')\n",
    "stationsdaten.head()"
   ]
  },
  {
   "cell_type": "markdown",
   "metadata": {},
   "source": [
    "## Daten Filtern\n",
    "\n",
    "Über die Klammern [] kann man auf Inhalte des DatenFrames zugreifen. Gibt man z.B. einen Spaltennamen an wird ein neuer DatenFrame erzeugt indem nur diese Spalte enhalten ist. [] stellen in Python Operationen auf Collections dar, dies können z.B. Listen, Mengen, Frame oder ähnliches sein. Mit [1,2,3] stellt man eine Liste mit 3 Zahlen dar. [\"eins\", \"zwei\", \"drei\"] stellt wiederum eine Liste von Zeichenketten dar.\n",
    "\n",
    "### Aufgabe\n",
    "Erstelle mit Hilfe der Klammern einen neuen Datenframe in dem neben dem \"brand\" auch der \"name\" enthalten ist!"
   ]
  },
  {
   "cell_type": "code",
   "execution_count": null,
   "metadata": {},
   "outputs": [],
   "source": [
    "# TODO implementieren"
   ]
  },
  {
   "cell_type": "markdown",
   "metadata": {},
   "source": [
    "Man kann zudem logische Ausdrücke in den Klammern an das DataFrame übergeben um somit filtern zu können. \"==\" prüft auf Gleicheit, \"!=\" prüft auf Ungleichheit.\n",
    "\n",
    "### Aufgabe\n",
    "Erstelle einen neuen DataFrame mit dem Namen \"oil_tankstellen\" und filtere dadrin alle Tankstellen der Firma \"OIL!\"!"
   ]
  },
  {
   "cell_type": "code",
   "execution_count": null,
   "metadata": {},
   "outputs": [],
   "source": [
    "# TODO implementieren"
   ]
  },
  {
   "cell_type": "markdown",
   "metadata": {},
   "source": [
    "## Preisdaten laden\n",
    "Analog zu den Statationsdaten finden sich die Preise in der Datei \"2022-06-11-prices.csv\".\n",
    "\n",
    "### Aufgabe\n",
    "Lade die Preisinformationen aller Stationen in die Variable \"preisinformationen\" und zeige die Kopfdaten an."
   ]
  },
  {
   "cell_type": "code",
   "execution_count": null,
   "metadata": {},
   "outputs": [],
   "source": [
    "# TODO implementieren"
   ]
  },
  {
   "cell_type": "markdown",
   "metadata": {},
   "source": [
    "## Zeiten\n",
    "In der Spalte \"date\" findet sich der Zeitstempel, wann diese Preiskonstellation an welcher Tankstelle gemessen wurde.\n",
    "Die Tankstelle ist eindeutig über die \"station_uuid\" bezeichnet.\n",
    "Bisher steht in der Spale lediglich eine Zeichenkette, wir möchten aber Pandas sagen, dass es sich hierbei um Werte vom Typ Zeitstempel (DateTime) handelt.\n",
    "Dies kann man über die Funktion \"pd.to_datetime\" erledigen.\n",
    "\n",
    "Jeder DataFrame hat einen Index um eine Zeile eindeutig zu identifizieren. Standardmässig ist die eine fortlaufende Nummer 0,1,2 ... N.\n",
    "Man kann jedoch auch eine Spalte als Index festlegen über die Funktion \"set_index\".\n",
    "\n",
    "## Aufgabe\n",
    "Weise der Spalte \"date\" des DatenFrame \"preisinformation\" einen echten Zeitstempel zu und setze die Spalte \"date\" als Index fest.\n"
   ]
  },
  {
   "cell_type": "code",
   "execution_count": null,
   "metadata": {},
   "outputs": [],
   "source": [
    "# TODO implementieren"
   ]
  },
  {
   "cell_type": "markdown",
   "metadata": {},
   "source": [
    "Mit einem Zeitstempel als Index kann man jetzt Zeit-Funktionen benutzen um Bereichen einzugrenzen.\n",
    "So kann man z.B. einen neuen Datenframe über die Funktion [between_time](https://pandas.pydata.org/docs/reference/api/pandas.DataFrame.between_time.html) erzeugen indem man einfach zwei Parameter von,bis übergibt. \n",
    "\n",
    "**Beispiel**: df.between_time('23:30', '23:45')\n",
    "\n",
    "### Aufgabe\n",
    "Erzeuge zwei neue DataFrames berufsverkehr_morgens und berufsverkehr_abends und sortiere diesen DataFrames respektive die Zeitbreiche 7Uhr - 9Uhr und 16Uhr - 19Uhr zu.\n"
   ]
  },
  {
   "cell_type": "code",
   "execution_count": null,
   "metadata": {},
   "outputs": [],
   "source": [
    "# TODO implementieren"
   ]
  },
  {
   "cell_type": "markdown",
   "metadata": {},
   "source": [
    "## Mittelwerte berechnen\n",
    "Mit der Funktion \"mean\" kann man den Mittelwert einer Zahlenfolge berechnen.\n",
    "Hierzu sucht man aus einem DatenFrame über die Spalteneinschränkung eine Zahlenfolge heraus und wendet die Funktion an.\n",
    "\n",
    "### Aufgabe\n",
    "Erstelle zwei Variabeln \"durchschnitt_e5_morgens\" und \"durchschnitt_e5_abends\" und berechne den Mittelwert des Kraftstoffes E5 für den jeweils passenden DatenFrame des Berufsverkehrs (aus der vorherigen Aufgabe)!\n",
    "\n",
    "**Frage** Wann ist es günstiger zu Tanken? Gilt dies auch für E10 und Diesel?\n",
    "\n",
    "TIP: Mit print(variable1, variable2) kann man beide Variabeln ausgeben."
   ]
  },
  {
   "cell_type": "code",
   "execution_count": null,
   "metadata": {},
   "outputs": [],
   "source": [
    "# TODO implementieren"
   ]
  }
 ],
 "metadata": {
  "kernelspec": {
   "display_name": "Python 3.10.5 ('praktikum')",
   "language": "python",
   "name": "python3"
  },
  "language_info": {
   "codemirror_mode": {
    "name": "ipython",
    "version": 3
   },
   "file_extension": ".py",
   "mimetype": "text/x-python",
   "name": "python",
   "nbconvert_exporter": "python",
   "pygments_lexer": "ipython3",
   "version": "3.10.5"
  },
  "orig_nbformat": 4,
  "vscode": {
   "interpreter": {
    "hash": "580727df8011581372847826da124d6504ac765f4249bf0e15ef86c94feeffba"
   }
  }
 },
 "nbformat": 4,
 "nbformat_minor": 2
}
